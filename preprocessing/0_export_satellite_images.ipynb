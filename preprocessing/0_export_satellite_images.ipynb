{
 "cells": [
  {
   "cell_type": "markdown",
   "metadata": {},
   "source": [
    "# Export satellite images\n",
    "\n",
    "***Note August 15th 2023**: due to constraints imposed by Google Earth Engine on data exports, this script has become excessively slow to run in its current form (estimated >300 h). The notebook below was what we ran to produce the results in our paper, but for the sake of usability we are currently developing a faster, equivalent setup for exporting and loading images. This script will be included alongside the original one as soon as it is ready.*"
   ]
  },
  {
   "cell_type": "markdown",
   "metadata": {},
   "source": [
    "## Table of Contents\n",
    "- [Pre-requisites](#pre-requisites)\n",
    "- [Instructions](#instructions)\n",
    "- [Imports and initialization](#imports-and-initialization)\n",
    "- [Prepare the survey data](#prepare-the-survey-data)\n",
    "- [Download the images](#download-the-images)"
   ]
  },
  {
   "cell_type": "markdown",
   "metadata": {},
   "source": [
    "## Pre-requisites\n",
    "Register an account on [Google Earth Engine (GEE)](https://earthengine.google.com/). You will need to provide a Gmail account. Once you have registered, you will need to [sign up for the Google Earth Engine API](https://signup.earthengine.google.com/#!/). This can take a few days to be approved. Once you have been approved, you will be able to use the GEE API."
   ]
  },
  {
   "cell_type": "markdown",
   "metadata": {},
   "source": [
    "## Instructions\n",
    "This notebook exports the Landsat and Nightlight images used as input data for the various models in the project from Google Earth Engine (GEE) to Google Cloud Storage (GCS). The exported images take up about 230 GB of disk space. After the images have been exported to GCS they will have to be downloaded into the data directory as specified in [config.ini](../config.ini)."
   ]
  },
  {
   "cell_type": "markdown",
   "metadata": {
    "pycharm": {
     "name": "#%% md\n"
    }
   },
   "source": [
    "## Imports and initialization\n",
    "\n",
    "Import the necessary libraries and config values."
   ]
  },
  {
   "cell_type": "code",
   "execution_count": 1,
   "metadata": {
    "pycharm": {
     "name": "#%%\n"
    }
   },
   "outputs": [],
   "source": [
    "import ee\n",
    "import pandas as pd\n",
    "import os\n",
    "from gee_utils import export_images, wait_on_tasks\n",
    "import configparser\n",
    "\n",
    "# Read config file\n",
    "config = configparser.ConfigParser()\n",
    "config.read('config.ini')"
   ]
  },
  {
   "cell_type": "markdown",
   "metadata": {
    "pycharm": {
     "name": "#%% md\n"
    }
   },
   "source": [
    "Before using the Earth Engine API, you must authenticate your credentials. Once you have run the following cell, you will be prompted to click on a link and copy a code into the text box. This will authenticate your credentials and allow you to use the Earth Engine API. You only need to do this once, unless prompted to do so again. Make sure that you log in using a Google account which has access to the GCS bucket defined in config.ini."
   ]
  },
  {
   "cell_type": "code",
   "execution_count": 16,
   "metadata": {
    "pycharm": {
     "name": "#%%\n"
    }
   },
   "outputs": [
    {
     "data": {
      "text/html": [
       "<p>To authorize access needed by Earth Engine, open the following\n",
       "        URL in a web browser and follow the instructions:</p>\n",
       "        <p><a href=https://accounts.google.com/o/oauth2/auth?client_id=517222506229-vsmmajv00ul0bs7p89v5m89qs8eb9359.apps.googleusercontent.com&scope=https%3A%2F%2Fwww.googleapis.com%2Fauth%2Fearthengine+https%3A%2F%2Fwww.googleapis.com%2Fauth%2Fdevstorage.full_control&redirect_uri=urn%3Aietf%3Awg%3Aoauth%3A2.0%3Aoob&response_type=code&code_challenge=VQsyb7RQRtLzgC28snLBRjisSINBso5I04EaXvF6mK8&code_challenge_method=S256>https://accounts.google.com/o/oauth2/auth?client_id=517222506229-vsmmajv00ul0bs7p89v5m89qs8eb9359.apps.googleusercontent.com&scope=https%3A%2F%2Fwww.googleapis.com%2Fauth%2Fearthengine+https%3A%2F%2Fwww.googleapis.com%2Fauth%2Fdevstorage.full_control&redirect_uri=urn%3Aietf%3Awg%3Aoauth%3A2.0%3Aoob&response_type=code&code_challenge=VQsyb7RQRtLzgC28snLBRjisSINBso5I04EaXvF6mK8&code_challenge_method=S256</a></p>\n",
       "        <p>The authorization workflow will generate a code, which you\n",
       "        should paste in the box below</p>\n",
       "        "
      ],
      "text/plain": [
       "<IPython.core.display.HTML object>"
      ]
     },
     "metadata": {},
     "output_type": "display_data"
    },
    {
     "name": "stdout",
     "output_type": "stream",
     "text": [
      "Enter verification code: 4/1AY0e-g4mUuTleAp3DqL9Zd8VjdMgm5afGts3TSjPhbkC106p7y9muc91yUU\n",
      "\n",
      "Successfully saved authorization token.\n"
     ]
    }
   ],
   "source": [
    "ee.Authenticate()"
   ]
  },
  {
   "cell_type": "markdown",
   "metadata": {},
   "source": [
    "Initilaize the Earth Engine API with the high volume end-point. See [here](https://developers.google.com/earth-engine/cloud/highvolume) for more information."
   ]
  },
  {
   "cell_type": "code",
   "execution_count": 17,
   "metadata": {
    "pycharm": {
     "name": "#%%\n"
    }
   },
   "outputs": [],
   "source": [
    "ee.Initialize(opt_url='https://earthengine-highvolume.googleapis.com')"
   ]
  },
  {
   "cell_type": "markdown",
   "metadata": {
    "pycharm": {
     "name": "#%% md\n"
    }
   },
   "source": [
    "## Prepare the survey data\n",
    "\n",
    "Read the csv file with survey points"
   ]
  },
  {
   "cell_type": "code",
   "execution_count": null,
   "metadata": {},
   "outputs": [],
   "source": [
    "data_dir = config['PATHS']['DATA_DIR']\n",
    "dhs_cluster_file_path = os.path.join(data_dir, 'dhs_clusters.csv')\n",
    "df = pd.read_csv(dhs_cluster_file_path)\n",
    "df.head()"
   ]
  },
  {
   "cell_type": "markdown",
   "metadata": {},
   "source": [
    "Get a list of all the country-year combinations included in the dataset"
   ]
  },
  {
   "cell_type": "code",
   "execution_count": 47,
   "metadata": {},
   "outputs": [],
   "source": [
    "surveys = list(df.groupby(['country', 'year']).groups.keys())"
   ]
  },
  {
   "cell_type": "markdown",
   "metadata": {},
   "source": [
    "To make sure that you have all the permissions, libraries, etc. before starting the big list of tasks, run this test case which exports the first 10 clusters for a given survey. It shouldn't take more than 10 minutes."
   ]
  },
  {
   "cell_type": "code",
   "execution_count": null,
   "metadata": {
    "pycharm": {
     "name": "#%%\n"
    }
   },
   "outputs": [],
   "source": [
    "def test_export(df, country, year):\n",
    "    test_df = df[(df['country'] == country) & (df['year'] == year)].sample(10, random_state=0)\n",
    "    test_tasks = export_images(test_df,\n",
    "                               country=country,\n",
    "                               year=year,\n",
    "                               export_folder=config['GCS']['EXPORT_FOLDER'],  # 'data/dhs_tfrecords_raw',\n",
    "                               export='gcs',\n",
    "                               bucket=config['GCS']['BUCKET'],\n",
    "                               ms_bands=['BLUE', 'GREEN', 'RED', 'NIR', 'SWIR1', 'SWIR2', 'TEMP1'],\n",
    "                               include_nl=True,\n",
    "                               start_year=1990,\n",
    "                               end_year=2020,\n",
    "                               span_length=3,\n",
    "                               chunk_size=5)\n",
    "    wait_on_tasks(test_tasks, poll_interval=60)\n",
    "\n",
    "test_export(df, surveys[0][0], surveys[0][1])"
   ]
  },
  {
   "cell_type": "markdown",
   "metadata": {},
   "source": [
    "Note that even if the \"wait_on_tasks\" method fails the tasks have still been started and are running in the GEE. If the task completes succesfully (seen either through wait_on_tasks or in the [GEE editor](https://code.earthengine.google.com/ )) you can continue to the next step."
   ]
  },
  {
   "cell_type": "markdown",
   "metadata": {},
   "source": [
    "## Export the images\n",
    "\n",
    "This section sets up and queues all the tasks for your survey data. It will take a little while to load, but once it's executed you're done. The exports are now carried out in GEE and you can monitor the exports in the [GEE editor](https://code.earthengine.google.com/). Note that some of these tasks will most likely fail with memory errors. When one of them fail the next couple of ones (maybe next five) are also fails more likely to do so. It happens seamingly at random and there's nothing we've been able to do about it. After everyone are done I will rerun the exports only on the survey points which are missing in the GCS bucket, so unless a lot of them fail (for Egypt 2014 it was about 10%) this is nothing you need to worry about for now."
   ]
  },
  {
   "cell_type": "markdown",
   "metadata": {},
   "source": [
    "### Start missing downloads\n",
    "\n",
    "Sometimes the connnection aborts before all tasks have been started. I've updated the script to first check which tasks have already been initiated before starting the rest."
   ]
  },
  {
   "cell_type": "code",
   "execution_count": 48,
   "metadata": {},
   "outputs": [],
   "source": [
    "latest_tasks = {}\n",
    "for survey in surveys:\n",
    "    latest_tasks[survey] = -1"
   ]
  },
  {
   "cell_type": "markdown",
   "metadata": {},
   "source": [
    "Get the latest task already downloaded into the GCS bucket for each survey:"
   ]
  },
  {
   "cell_type": "code",
   "execution_count": 49,
   "metadata": {},
   "outputs": [],
   "source": [
    "for survey in surveys:\n",
    "    files_path = f'gs://{config['GCS']['BUCKET']}/{config['GCS']['EXPORT_FOLDER']}/{survey[0]}_{survey[1]}'\n",
    "    files_in_bucket = !gsutil ls {files_path}*\n",
    "    if files_in_bucket[-1].startswith(files_path):\n",
    "        latest_file = files_in_bucket[-1]\n",
    "        latest_file_nr = int(latest_file[len(files_path)+1:len(files_path)+5])\n",
    "        latest_tasks[survey] = latest_file_nr"
   ]
  },
  {
   "cell_type": "code",
   "execution_count": 50,
   "metadata": {},
   "outputs": [
    {
     "name": "stdout",
     "output_type": "stream",
     "text": [
      "Latest tasks already in bucket:\n",
      " {('madagascar', 2020): 1304, ('ethiopia', 2020): 1005}\n"
     ]
    }
   ],
   "source": [
    "print('Latest tasks already in bucket:\\n', latest_tasks)"
   ]
  },
  {
   "cell_type": "markdown",
   "metadata": {},
   "source": [
    "Get the latest task started in GEE for each survey:"
   ]
  },
  {
   "cell_type": "code",
   "execution_count": 51,
   "metadata": {},
   "outputs": [],
   "source": [
    "# Get task list from GEE\n",
    "gee_tasks = !earthengine task list\n",
    "\n",
    "# Loop over these tasks. Save the latest in \"last_tasks\", if it's higher than what is already in the GCS bucket.\n",
    "for line in gee_tasks:\n",
    "    if 'Export.table' in line:\n",
    "        task = line.split()[2]\n",
    "        survey_string = task.split('_')[:2]\n",
    "        survey = (survey_string[0], int(survey_string[1]))\n",
    "        if survey not in surveys:\n",
    "            continue\n",
    "        task_nr = int(task.split('_')[2][:4])\n",
    "        if task_nr > latest_tasks[survey]:\n",
    "            latest_tasks[survey] = task_nr"
   ]
  },
  {
   "cell_type": "code",
   "execution_count": 52,
   "metadata": {},
   "outputs": [
    {
     "name": "stdout",
     "output_type": "stream",
     "text": [
      "Latest tasks already started in GEE:\n",
      " {('madagascar', 2020): 1304, ('ethiopia', 2020): 1005}\n"
     ]
    }
   ],
   "source": [
    "print('Latest tasks already started in GEE:\\n', latest_tasks)"
   ]
  },
  {
   "cell_type": "markdown",
   "metadata": {},
   "source": [
    "Start the remaining tasks. If the connection is aborted before all tasks have started, please rerun this section of the notebook (from the \"Export the images\")."
   ]
  },
  {
   "cell_type": "code",
   "execution_count": null,
   "metadata": {},
   "outputs": [],
   "source": [
    "chunk_size = 5\n",
    "all_tasks = dict()\n",
    "\n",
    "for survey in surveys:\n",
    "    last_started = latest_tasks[survey]\n",
    "    survey_df = df[(df['country'] == survey[0]) & (df['year'] == survey[1])]\n",
    "    expected_nr_of_tasks = int(math.ceil(len(survey_df) / chunk_size))\n",
    "    if last_started < expected_nr_of_tasks - 1:\n",
    "        # Some tasks have not been started. Starts them here:\n",
    "        country = survey[0]\n",
    "        year = survey[1]\n",
    "        already_in_bucket = list(range(last_started + 1))\n",
    "        survey_tasks = export_images(df,\n",
    "                                     country=country,\n",
    "                                     year=year,\n",
    "                                     export_folder=config['GCS']['EXPORT_FOLDER'],\n",
    "                                     export='gcs',\n",
    "                                     bucket=config['GCS']['BUCKET'],\n",
    "                                     ms_bands=['BLUE', 'GREEN', 'RED', 'NIR', 'SWIR1', 'SWIR2', 'TEMP1'],\n",
    "                                     include_nl=True,\n",
    "                                     start_year=1990,\n",
    "                                     end_year=2020,\n",
    "                                     span_length=3,\n",
    "                                     chunk_size=5,\n",
    "                                     already_in_bucket=already_in_bucket)\n",
    "        all_tasks.update(survey_tasks)"
   ]
  },
  {
   "cell_type": "markdown",
   "metadata": {},
   "source": [
    "If you prefer, you also monitor the tasks in the notebook with the \"wait_on_tasks\" method."
   ]
  },
  {
   "cell_type": "code",
   "execution_count": null,
   "metadata": {},
   "outputs": [],
   "source": [
    "wait_on_tasks(all_tasks, poll_interval=60)"
   ]
  }
 ],
 "metadata": {
  "kernelspec": {
   "display_name": "PyCharm (satellite_poverty_prediction)",
   "language": "python",
   "name": "pycharm-18a07675"
  },
  "language_info": {
   "codemirror_mode": {
    "name": "ipython",
    "version": 3
   },
   "file_extension": ".py",
   "mimetype": "text/x-python",
   "name": "python",
   "nbconvert_exporter": "python",
   "pygments_lexer": "ipython3",
   "version": "3.8.5"
  }
 },
 "nbformat": 4,
 "nbformat_minor": 1
}
